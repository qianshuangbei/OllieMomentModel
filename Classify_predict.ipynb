{
 "cells": [
  {
   "cell_type": "markdown",
   "metadata": {},
   "source": [
    "# Yolo Classify\n",
    "\n",
    "Test classify mode\n"
   ]
  },
  {
   "cell_type": "code",
   "execution_count": 1,
   "metadata": {},
   "outputs": [
    {
     "name": "stdout",
     "output_type": "stream",
     "text": [
      "\n",
      "image 1/1 /home/shq/yolo/image/sv2_000017.jpg: 224x224 racket 0.61, unicycle 0.15, tennis_ball 0.10, spotlight 0.02, ping-pong_ball 0.01, 2.9ms\n",
      "Speed: 15.0ms preprocess, 2.9ms inference, 0.0ms postprocess per image at shape (1, 3, 224, 224)\n",
      "Predicted class: racket\n",
      "Confidence: 0.61\n"
     ]
    }
   ],
   "source": [
    "from ultralytics import YOLO\n",
    "import os\n",
    "import cv2\n",
    "\n",
    "# Load a model\n",
    "model = YOLO(\"yolo11n-cls.pt\")  # load an official model\n",
    "# model = YOLO(\"path/to/best.pt\")  # load a custom model\n",
    "\n",
    "# Predict with the model\n",
    "results = model(\"image/sv2_000017.jpg\")  # predict on an image\n",
    "\n",
    "# Process and save results\n",
    "for r in results:\n",
    "    # Read the original image\n",
    "    img = cv2.imread(\"image/sv2_000017.jpg\")\n",
    "    \n",
    "    # Get prediction info\n",
    "    probs = r.probs  # cls prob (list)\n",
    "    pred_class = probs.top1  # predicted class id\n",
    "    conf = float(probs.top1conf)  # confidence score\n",
    "    class_name = model.names[pred_class]  # class name\n",
    "    \n",
    "    # Add text to image\n",
    "    text = f'{class_name}: {conf:.2f}'\n",
    "    cv2.putText(img, text, (10, 30), cv2.FONT_HERSHEY_SIMPLEX, 1, (0, 255, 0), 2)\n",
    "    \n",
    "    # Get original filename without path\n",
    "    orig_filename = os.path.basename(\"image/sv2_000017.jpg\")\n",
    "    save_path = os.path.join('predict', f'cls_{orig_filename}')\n",
    "    \n",
    "    # Save the visualization\n",
    "    cv2.imwrite(save_path, img)\n",
    "    \n",
    "    # Print classification results\n",
    "    print(f'Predicted class: {class_name}')\n",
    "    print(f'Confidence: {conf:.2f}')"
   ]
  }
 ],
 "metadata": {
  "kernelspec": {
   "display_name": "base",
   "language": "python",
   "name": "python3"
  },
  "language_info": {
   "codemirror_mode": {
    "name": "ipython",
    "version": 3
   },
   "file_extension": ".py",
   "mimetype": "text/x-python",
   "name": "python",
   "nbconvert_exporter": "python",
   "pygments_lexer": "ipython3",
   "version": "3.10.10"
  }
 },
 "nbformat": 4,
 "nbformat_minor": 2
}
